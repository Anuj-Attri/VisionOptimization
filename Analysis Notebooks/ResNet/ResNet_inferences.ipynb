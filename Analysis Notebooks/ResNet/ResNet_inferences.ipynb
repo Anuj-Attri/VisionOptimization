{
  "cells": [
    {
      "cell_type": "markdown",
      "source": [
        "\n",
        "# Training and Performance Analysis of ResNet Architecture\n",
        "* ECE-GY 9143 High Performance Machine Learning\n",
        "* Author: Anuj Attri\n",
        "---\n",
        "\n",
        "## Importing Libraries to be used\n",
        "The implementation is achieved using Pytorch exploiting features of Pytorch profiler."
      ],
      "metadata": {
        "id": "KrexUZnFJnnx"
      }
    },
    {
      "cell_type": "code",
      "execution_count": 58,
      "metadata": {
        "id": "RlSJ_2t09E6V"
      },
      "outputs": [],
      "source": [
        "from __future__ import print_function\n",
        "\n",
        "import os\n",
        "import torch\n",
        "import torch.nn as nn\n",
        "import torch.optim as optim\n",
        "import torchvision\n",
        "import torchvision.transforms as transforms"
      ]
    },
    {
      "cell_type": "code",
      "execution_count": 59,
      "metadata": {
        "id": "v_KVAKG79E6V"
      },
      "outputs": [],
      "source": [
        "transform = transforms.Compose([\n",
        "    transforms.RandomHorizontalFlip(),\n",
        "    transforms.ToTensor(),\n",
        "    transforms.Normalize((0.5, 0.5, 0.5), (0.5, 0.5, 0.5)),\n",
        "])"
      ]
    },
    {
      "cell_type": "markdown",
      "source": [
        "## Dataset and DataLoader\n",
        "Dataset used is Cifar-10."
      ],
      "metadata": {
        "id": "7AIIzn1LKGaf"
      }
    },
    {
      "cell_type": "code",
      "execution_count": 60,
      "metadata": {
        "colab": {
          "base_uri": "https://localhost:8080/"
        },
        "id": "IQ7gU-7A9E6V",
        "outputId": "2e88e008-9827-4bee-cceb-78af73e76f88"
      },
      "outputs": [
        {
          "output_type": "stream",
          "name": "stdout",
          "text": [
            "Files already downloaded and verified\n",
            "Files already downloaded and verified\n"
          ]
        }
      ],
      "source": [
        "train_set = torchvision.datasets.CIFAR10('./datasets', train=True,\n",
        "                                         download=True, transform=transform)\n",
        "test_set = torchvision.datasets.CIFAR10('./datasets', train=False,\n",
        "                                        download=True, transform=transform)\n",
        "\n",
        "train_loader = torch.utils.data.DataLoader(train_set, batch_size=128,\n",
        "                                           shuffle=True, num_workers=4)\n",
        "test_loader = torch.utils.data.DataLoader(test_set, batch_size=100,\n",
        "                                          shuffle=False, num_workers=4)\n",
        "\n",
        "classes = ('plane', 'car', 'bird', 'cat', 'deer',\n",
        "           'dog', 'frog', 'horse', 'ship', 'truck')"
      ]
    },
    {
      "cell_type": "code",
      "execution_count": 61,
      "metadata": {
        "colab": {
          "base_uri": "https://localhost:8080/",
          "height": 193
        },
        "id": "Qb4z6Lue9E6W",
        "outputId": "2d4e79d4-42ef-4a7e-b9d5-70a3a9934521"
      },
      "outputs": [
        {
          "output_type": "display_data",
          "data": {
            "text/plain": [
              "<Figure size 640x480 with 1 Axes>"
            ],
            "image/png": "[encoded data removed]"
          },
          "metadata": {}
        }
      ],
      "source": [
        "import matplotlib.pyplot as plt\n",
        "import numpy as np\n",
        "\n",
        "def imshow(img):\n",
        "    img = img / 2 + 0.5\n",
        "    plt.imshow(np.transpose(img.numpy(), (1, 2, 0)))\n",
        "    plt.show()\n",
        "\n",
        "image_iter = iter(train_loader)\n",
        "images, _ = next(image_iter)\n",
        "imshow(torchvision.utils.make_grid(images[:4]))"
      ]
    },
    {
      "cell_type": "code",
      "execution_count": 62,
      "metadata": {
        "id": "NmQpQOIP9E6W",
        "colab": {
          "base_uri": "https://localhost:8080/"
        },
        "outputId": "aa253098-5795-4f82-ba05-0319d5f34782"
      },
      "outputs": [
        {
          "output_type": "stream",
          "name": "stdout",
          "text": [
            "cuda\n"
          ]
        }
      ],
      "source": [
        "device = 'cuda' if torch.cuda.is_available() else 'cpu'\n",
        "# device = torch.device('cpu')\n",
        "print(device)"
      ]
    },
    {
      "cell_type": "markdown",
      "source": [
        "## Defining the Model"
      ],
      "metadata": {
        "id": "0DEEUBboKd7l"
      }
    },
    {
      "cell_type": "markdown",
      "metadata": {
        "id": "aS2GCdQv9E6W"
      },
      "source": [
        "### BasicBlock\n"
      ]
    },
    {
      "cell_type": "code",
      "execution_count": 63,
      "metadata": {
        "id": "5liHtGur9E6W"
      },
      "outputs": [],
      "source": [
        "class BasicBlock(nn.Module):\n",
        "    expansion = 1\n",
        "\n",
        "    def __init__(self, in_channels, out_channels, stride=1):\n",
        "        super(BasicBlock, self).__init__()\n",
        "        self.features = nn.Sequential(\n",
        "            nn.Conv2d(in_channels, out_channels, kernel_size=3, stride=stride, padding=1, bias=False),\n",
        "            nn.BatchNorm2d(out_channels),\n",
        "            nn.ReLU(inplace=True),\n",
        "            nn.Conv2d(out_channels, out_channels, kernel_size=3, stride=1, padding=1, bias=False),\n",
        "            nn.BatchNorm2d(out_channels)\n",
        "        )\n",
        "        self.shortcut = nn.Sequential()\n",
        "        if stride != 1 or in_channels != self.expansion * out_channels:\n",
        "            self.shortcut = nn.Sequential(\n",
        "                nn.Conv2d(in_channels, self.expansion * out_channels, kernel_size=1, stride=stride, bias=False),\n",
        "                nn.BatchNorm2d(self.expansion * out_channels),\n",
        "            )\n",
        "\n",
        "    def forward(self, x):\n",
        "        out = self.features(x)\n",
        "        out += self.shortcut(x)\n",
        "        out = torch.relu(out)\n",
        "        return out"
      ]
    },
    {
      "cell_type": "code",
      "execution_count": 64,
      "metadata": {
        "id": "-9Id8p4_9E6X",
        "colab": {
          "base_uri": "https://localhost:8080/"
        },
        "outputId": "c1b7c692-897a-454b-fba0-6b78f19ea38b"
      },
      "outputs": [
        {
          "output_type": "stream",
          "name": "stdout",
          "text": [
            "BasicBlock(\n",
            "  (features): Sequential(\n",
            "    (0): Conv2d(64, 128, kernel_size=(3, 3), stride=(1, 1), padding=(1, 1), bias=False)\n",
            "    (1): BatchNorm2d(128, eps=1e-05, momentum=0.1, affine=True, track_running_stats=True)\n",
            "    (2): ReLU(inplace=True)\n",
            "    (3): Conv2d(128, 128, kernel_size=(3, 3), stride=(1, 1), padding=(1, 1), bias=False)\n",
            "    (4): BatchNorm2d(128, eps=1e-05, momentum=0.1, affine=True, track_running_stats=True)\n",
            "  )\n",
            "  (shortcut): Sequential(\n",
            "    (0): Conv2d(64, 128, kernel_size=(1, 1), stride=(1, 1), bias=False)\n",
            "    (1): BatchNorm2d(128, eps=1e-05, momentum=0.1, affine=True, track_running_stats=True)\n",
            "  )\n",
            ")\n",
            "torch.Size([2, 128, 32, 32])\n"
          ]
        }
      ],
      "source": [
        "basic_block = BasicBlock(64, 128)\n",
        "print(basic_block)\n",
        "x = torch.randn(2, 64, 32, 32)\n",
        "y = basic_block(x)\n",
        "print(y.shape)"
      ]
    },
    {
      "cell_type": "code",
      "execution_count": 65,
      "metadata": {
        "id": "7E51CmYH9E6X"
      },
      "outputs": [],
      "source": [
        "class Bottleneck(nn.Module):\n",
        "    expansion = 4\n",
        "\n",
        "    def __init__(self, in_channels, zip_channels, stride=1):\n",
        "        super(Bottleneck, self).__init__()\n",
        "        out_channels = self.expansion * zip_channels\n",
        "        self.features = nn.Sequential(\n",
        "            nn.Conv2d(in_channels, zip_channels, kernel_size=1, bias=False),\n",
        "            nn.BatchNorm2d(zip_channels),\n",
        "            nn.ReLU(inplace=True),\n",
        "            nn.Conv2d(zip_channels, zip_channels, kernel_size=3, stride=stride, padding=1, bias=False),\n",
        "            nn.BatchNorm2d(zip_channels),\n",
        "            nn.ReLU(inplace=True),\n",
        "            nn.Conv2d(zip_channels, out_channels, kernel_size=1, bias=False),\n",
        "            nn.BatchNorm2d(out_channels)\n",
        "        )\n",
        "        self.shortcut = nn.Sequential()\n",
        "        if stride != 1 or in_channels != out_channels:\n",
        "            self.shortcut = nn.Sequential(\n",
        "                nn.Conv2d(in_channels, out_channels, kernel_size=1, stride=stride, bias=False),\n",
        "                nn.BatchNorm2d(out_channels)\n",
        "            )\n",
        "\n",
        "    def forward(self, x):\n",
        "        out = self.features(x)\n",
        "        out += self.shortcut(x)\n",
        "        out = torch.relu(out)\n",
        "        return out"
      ]
    },
    {
      "cell_type": "code",
      "execution_count": 66,
      "metadata": {
        "id": "0x8UunEz9E6X",
        "colab": {
          "base_uri": "https://localhost:8080/"
        },
        "outputId": "21b7e49e-0da3-4441-b950-bdb6970ecdda"
      },
      "outputs": [
        {
          "output_type": "stream",
          "name": "stdout",
          "text": [
            "Bottleneck(\n",
            "  (features): Sequential(\n",
            "    (0): Conv2d(256, 128, kernel_size=(1, 1), stride=(1, 1), bias=False)\n",
            "    (1): BatchNorm2d(128, eps=1e-05, momentum=0.1, affine=True, track_running_stats=True)\n",
            "    (2): ReLU(inplace=True)\n",
            "    (3): Conv2d(128, 128, kernel_size=(3, 3), stride=(1, 1), padding=(1, 1), bias=False)\n",
            "    (4): BatchNorm2d(128, eps=1e-05, momentum=0.1, affine=True, track_running_stats=True)\n",
            "    (5): ReLU(inplace=True)\n",
            "    (6): Conv2d(128, 512, kernel_size=(1, 1), stride=(1, 1), bias=False)\n",
            "    (7): BatchNorm2d(512, eps=1e-05, momentum=0.1, affine=True, track_running_stats=True)\n",
            "  )\n",
            "  (shortcut): Sequential(\n",
            "    (0): Conv2d(256, 512, kernel_size=(1, 1), stride=(1, 1), bias=False)\n",
            "    (1): BatchNorm2d(512, eps=1e-05, momentum=0.1, affine=True, track_running_stats=True)\n",
            "  )\n",
            ")\n",
            "torch.Size([2, 512, 32, 32])\n"
          ]
        }
      ],
      "source": [
        "bottleneck = Bottleneck(256, 128)\n",
        "print(bottleneck)\n",
        "x = torch.randn(2, 256, 32, 32)\n",
        "y = bottleneck(x)\n",
        "print(y.shape)"
      ]
    },
    {
      "cell_type": "markdown",
      "metadata": {
        "id": "BJrwtDtj9E6X"
      },
      "source": [
        "### ResNet"
      ]
    },
    {
      "cell_type": "code",
      "execution_count": 67,
      "metadata": {
        "id": "6MVRfLUo9E6X"
      },
      "outputs": [],
      "source": [
        "class ResNet(nn.Module):\n",
        "    def __init__(self, block, num_blocks, num_classes=10):\n",
        "        super(ResNet, self).__init__()\n",
        "        self.in_channels = 64\n",
        "        self.features = nn.Sequential(\n",
        "            nn.Conv2d(3, 64, kernel_size=3, stride=1, padding=1, bias=False),\n",
        "            nn.BatchNorm2d(64),\n",
        "            nn.ReLU(inplace=True)\n",
        "        )\n",
        "        self.layer1 = self._make_layer(block, 64, num_blocks[0], stride=1)\n",
        "        self.layer2 = self._make_layer(block, 128, num_blocks[1], stride=2)\n",
        "        self.layer3 = self._make_layer(block, 256, num_blocks[2], stride=2)\n",
        "        self.layer4 = self._make_layer(block, 512, num_blocks[3], stride=2)\n",
        "        self.avg_pool = nn.AvgPool2d(kernel_size=4)\n",
        "        self.classifer = nn.Linear(512 * block.expansion, num_classes)\n",
        "\n",
        "    def _make_layer(self, block, out_channels, num_blocks, stride):\n",
        "        strides = [stride] + [1] * (num_blocks - 1)\n",
        "        layers = []\n",
        "        for stride in strides:\n",
        "            layers.append(block(self.in_channels, out_channels, stride))\n",
        "            self.in_channels = out_channels * block.expansion\n",
        "        return nn.Sequential(*layers)\n",
        "\n",
        "    def forward(self, x):\n",
        "        out = self.features(x)\n",
        "        out = self.layer1(out)\n",
        "        out = self.layer2(out)\n",
        "        out = self.layer3(out)\n",
        "        out = self.layer4(out)\n",
        "        out = self.avg_pool(out)\n",
        "        out = out.view(out.size(0), -1)\n",
        "        out = self.classifer(out)\n",
        "        return out"
      ]
    },
    {
      "cell_type": "code",
      "execution_count": 68,
      "metadata": {
        "id": "_14YF2dS9E6Y"
      },
      "outputs": [],
      "source": [
        "def ResNet18():\n",
        "    return ResNet(BasicBlock, [2,2,2,2])\n",
        "\n",
        "def ResNet34():\n",
        "    return ResNet(BasicBlock, [3,4,6,3])\n",
        "\n",
        "def ResNet50():\n",
        "    return ResNet(Bottleneck, [3,4,6,3])\n",
        "\n",
        "def ResNet101():\n",
        "    return ResNet(Bottleneck, [3,4,23,3])\n",
        "\n",
        "def ResNet152():\n",
        "    return ResNet(Bottleneck, [3,8,36,3])"
      ]
    },
    {
      "cell_type": "code",
      "execution_count": 69,
      "metadata": {
        "id": "kPJ4sn_q9E6Y",
        "colab": {
          "base_uri": "https://localhost:8080/"
        },
        "outputId": "8a3e8dff-733b-4726-f9e6-92052d37b231"
      },
      "outputs": [
        {
          "output_type": "stream",
          "name": "stdout",
          "text": [
            "ResNet(\n",
            "  (features): Sequential(\n",
            "    (0): Conv2d(3, 64, kernel_size=(3, 3), stride=(1, 1), padding=(1, 1), bias=False)\n",
            "    (1): BatchNorm2d(64, eps=1e-05, momentum=0.1, affine=True, track_running_stats=True)\n",
            "    (2): ReLU(inplace=True)\n",
            "  )\n",
            "  (layer1): Sequential(\n",
            "    (0): BasicBlock(\n",
            "      (features): Sequential(\n",
            "        (0): Conv2d(64, 64, kernel_size=(3, 3), stride=(1, 1), padding=(1, 1), bias=False)\n",
            "        (1): BatchNorm2d(64, eps=1e-05, momentum=0.1, affine=True, track_running_stats=True)\n",
            "        (2): ReLU(inplace=True)\n",
            "        (3): Conv2d(64, 64, kernel_size=(3, 3), stride=(1, 1), padding=(1, 1), bias=False)\n",
            "        (4): BatchNorm2d(64, eps=1e-05, momentum=0.1, affine=True, track_running_stats=True)\n",
            "      )\n",
            "      (shortcut): Sequential()\n",
            "    )\n",
            "    (1): BasicBlock(\n",
            "      (features): Sequential(\n",
            "        (0): Conv2d(64, 64, kernel_size=(3, 3), stride=(1, 1), padding=(1, 1), bias=False)\n",
            "        (1): BatchNorm2d(64, eps=1e-05, momentum=0.1, affine=True, track_running_stats=True)\n",
            "        (2): ReLU(inplace=True)\n",
            "        (3): Conv2d(64, 64, kernel_size=(3, 3), stride=(1, 1), padding=(1, 1), bias=False)\n",
            "        (4): BatchNorm2d(64, eps=1e-05, momentum=0.1, affine=True, track_running_stats=True)\n",
            "      )\n",
            "      (shortcut): Sequential()\n",
            "    )\n",
            "    (2): BasicBlock(\n",
            "      (features): Sequential(\n",
            "        (0): Conv2d(64, 64, kernel_size=(3, 3), stride=(1, 1), padding=(1, 1), bias=False)\n",
            "        (1): BatchNorm2d(64, eps=1e-05, momentum=0.1, affine=True, track_running_stats=True)\n",
            "        (2): ReLU(inplace=True)\n",
            "        (3): Conv2d(64, 64, kernel_size=(3, 3), stride=(1, 1), padding=(1, 1), bias=False)\n",
            "        (4): BatchNorm2d(64, eps=1e-05, momentum=0.1, affine=True, track_running_stats=True)\n",
            "      )\n",
            "      (shortcut): Sequential()\n",
            "    )\n",
            "  )\n",
            "  (layer2): Sequential(\n",
            "    (0): BasicBlock(\n",
            "      (features): Sequential(\n",
            "        (0): Conv2d(64, 128, kernel_size=(3, 3), stride=(2, 2), padding=(1, 1), bias=False)\n",
            "        (1): BatchNorm2d(128, eps=1e-05, momentum=0.1, affine=True, track_running_stats=True)\n",
            "        (2): ReLU(inplace=True)\n",
            "        (3): Conv2d(128, 128, kernel_size=(3, 3), stride=(1, 1), padding=(1, 1), bias=False)\n",
            "        (4): BatchNorm2d(128, eps=1e-05, momentum=0.1, affine=True, track_running_stats=True)\n",
            "      )\n",
            "      (shortcut): Sequential(\n",
            "        (0): Conv2d(64, 128, kernel_size=(1, 1), stride=(2, 2), bias=False)\n",
            "        (1): BatchNorm2d(128, eps=1e-05, momentum=0.1, affine=True, track_running_stats=True)\n",
            "      )\n",
            "    )\n",
            "    (1): BasicBlock(\n",
            "      (features): Sequential(\n",
            "        (0): Conv2d(128, 128, kernel_size=(3, 3), stride=(1, 1), padding=(1, 1), bias=False)\n",
            "        (1): BatchNorm2d(128, eps=1e-05, momentum=0.1, affine=True, track_running_stats=True)\n",
            "        (2): ReLU(inplace=True)\n",
            "        (3): Conv2d(128, 128, kernel_size=(3, 3), stride=(1, 1), padding=(1, 1), bias=False)\n",
            "        (4): BatchNorm2d(128, eps=1e-05, momentum=0.1, affine=True, track_running_stats=True)\n",
            "      )\n",
            "      (shortcut): Sequential()\n",
            "    )\n",
            "    (2): BasicBlock(\n",
            "      (features): Sequential(\n",
            "        (0): Conv2d(128, 128, kernel_size=(3, 3), stride=(1, 1), padding=(1, 1), bias=False)\n",
            "        (1): BatchNorm2d(128, eps=1e-05, momentum=0.1, affine=True, track_running_stats=True)\n",
            "        (2): ReLU(inplace=True)\n",
            "        (3): Conv2d(128, 128, kernel_size=(3, 3), stride=(1, 1), padding=(1, 1), bias=False)\n",
            "        (4): BatchNorm2d(128, eps=1e-05, momentum=0.1, affine=True, track_running_stats=True)\n",
            "      )\n",
            "      (shortcut): Sequential()\n",
            "    )\n",
            "    (3): BasicBlock(\n",
            "      (features): Sequential(\n",
            "        (0): Conv2d(128, 128, kernel_size=(3, 3), stride=(1, 1), padding=(1, 1), bias=False)\n",
            "        (1): BatchNorm2d(128, eps=1e-05, momentum=0.1, affine=True, track_running_stats=True)\n",
            "        (2): ReLU(inplace=True)\n",
            "        (3): Conv2d(128, 128, kernel_size=(3, 3), stride=(1, 1), padding=(1, 1), bias=False)\n",
            "        (4): BatchNorm2d(128, eps=1e-05, momentum=0.1, affine=True, track_running_stats=True)\n",
            "      )\n",
            "      (shortcut): Sequential()\n",
            "    )\n",
            "  )\n",
            "  (layer3): Sequential(\n",
            "    (0): BasicBlock(\n",
            "      (features): Sequential(\n",
            "        (0): Conv2d(128, 256, kernel_size=(3, 3), stride=(2, 2), padding=(1, 1), bias=False)\n",
            "        (1): BatchNorm2d(256, eps=1e-05, momentum=0.1, affine=True, track_running_stats=True)\n",
            "        (2): ReLU(inplace=True)\n",
            "        (3): Conv2d(256, 256, kernel_size=(3, 3), stride=(1, 1), padding=(1, 1), bias=False)\n",
            "        (4): BatchNorm2d(256, eps=1e-05, momentum=0.1, affine=True, track_running_stats=True)\n",
            "      )\n",
            "      (shortcut): Sequential(\n",
            "        (0): Conv2d(128, 256, kernel_size=(1, 1), stride=(2, 2), bias=False)\n",
            "        (1): BatchNorm2d(256, eps=1e-05, momentum=0.1, affine=True, track_running_stats=True)\n",
            "      )\n",
            "    )\n",
            "    (1): BasicBlock(\n",
            "      (features): Sequential(\n",
            "        (0): Conv2d(256, 256, kernel_size=(3, 3), stride=(1, 1), padding=(1, 1), bias=False)\n",
            "        (1): BatchNorm2d(256, eps=1e-05, momentum=0.1, affine=True, track_running_stats=True)\n",
            "        (2): ReLU(inplace=True)\n",
            "        (3): Conv2d(256, 256, kernel_size=(3, 3), stride=(1, 1), padding=(1, 1), bias=False)\n",
            "        (4): BatchNorm2d(256, eps=1e-05, momentum=0.1, affine=True, track_running_stats=True)\n",
            "      )\n",
            "      (shortcut): Sequential()\n",
            "    )\n",
            "    (2): BasicBlock(\n",
            "      (features): Sequential(\n",
            "        (0): Conv2d(256, 256, kernel_size=(3, 3), stride=(1, 1), padding=(1, 1), bias=False)\n",
            "        (1): BatchNorm2d(256, eps=1e-05, momentum=0.1, affine=True, track_running_stats=True)\n",
            "        (2): ReLU(inplace=True)\n",
            "        (3): Conv2d(256, 256, kernel_size=(3, 3), stride=(1, 1), padding=(1, 1), bias=False)\n",
            "        (4): BatchNorm2d(256, eps=1e-05, momentum=0.1, affine=True, track_running_stats=True)\n",
            "      )\n",
            "      (shortcut): Sequential()\n",
            "    )\n",
            "    (3): BasicBlock(\n",
            "      (features): Sequential(\n",
            "        (0): Conv2d(256, 256, kernel_size=(3, 3), stride=(1, 1), padding=(1, 1), bias=False)\n",
            "        (1): BatchNorm2d(256, eps=1e-05, momentum=0.1, affine=True, track_running_stats=True)\n",
            "        (2): ReLU(inplace=True)\n",
            "        (3): Conv2d(256, 256, kernel_size=(3, 3), stride=(1, 1), padding=(1, 1), bias=False)\n",
            "        (4): BatchNorm2d(256, eps=1e-05, momentum=0.1, affine=True, track_running_stats=True)\n",
            "      )\n",
            "      (shortcut): Sequential()\n",
            "    )\n",
            "    (4): BasicBlock(\n",
            "      (features): Sequential(\n",
            "        (0): Conv2d(256, 256, kernel_size=(3, 3), stride=(1, 1), padding=(1, 1), bias=False)\n",
            "        (1): BatchNorm2d(256, eps=1e-05, momentum=0.1, affine=True, track_running_stats=True)\n",
            "        (2): ReLU(inplace=True)\n",
            "        (3): Conv2d(256, 256, kernel_size=(3, 3), stride=(1, 1), padding=(1, 1), bias=False)\n",
            "        (4): BatchNorm2d(256, eps=1e-05, momentum=0.1, affine=True, track_running_stats=True)\n",
            "      )\n",
            "      (shortcut): Sequential()\n",
            "    )\n",
            "    (5): BasicBlock(\n",
            "      (features): Sequential(\n",
            "        (0): Conv2d(256, 256, kernel_size=(3, 3), stride=(1, 1), padding=(1, 1), bias=False)\n",
            "        (1): BatchNorm2d(256, eps=1e-05, momentum=0.1, affine=True, track_running_stats=True)\n",
            "        (2): ReLU(inplace=True)\n",
            "        (3): Conv2d(256, 256, kernel_size=(3, 3), stride=(1, 1), padding=(1, 1), bias=False)\n",
            "        (4): BatchNorm2d(256, eps=1e-05, momentum=0.1, affine=True, track_running_stats=True)\n",
            "      )\n",
            "      (shortcut): Sequential()\n",
            "    )\n",
            "  )\n",
            "  (layer4): Sequential(\n",
            "    (0): BasicBlock(\n",
            "      (features): Sequential(\n",
            "        (0): Conv2d(256, 512, kernel_size=(3, 3), stride=(2, 2), padding=(1, 1), bias=False)\n",
            "        (1): BatchNorm2d(512, eps=1e-05, momentum=0.1, affine=True, track_running_stats=True)\n",
            "        (2): ReLU(inplace=True)\n",
            "        (3): Conv2d(512, 512, kernel_size=(3, 3), stride=(1, 1), padding=(1, 1), bias=False)\n",
            "        (4): BatchNorm2d(512, eps=1e-05, momentum=0.1, affine=True, track_running_stats=True)\n",
            "      )\n",
            "      (shortcut): Sequential(\n",
            "        (0): Conv2d(256, 512, kernel_size=(1, 1), stride=(2, 2), bias=False)\n",
            "        (1): BatchNorm2d(512, eps=1e-05, momentum=0.1, affine=True, track_running_stats=True)\n",
            "      )\n",
            "    )\n",
            "    (1): BasicBlock(\n",
            "      (features): Sequential(\n",
            "        (0): Conv2d(512, 512, kernel_size=(3, 3), stride=(1, 1), padding=(1, 1), bias=False)\n",
            "        (1): BatchNorm2d(512, eps=1e-05, momentum=0.1, affine=True, track_running_stats=True)\n",
            "        (2): ReLU(inplace=True)\n",
            "        (3): Conv2d(512, 512, kernel_size=(3, 3), stride=(1, 1), padding=(1, 1), bias=False)\n",
            "        (4): BatchNorm2d(512, eps=1e-05, momentum=0.1, affine=True, track_running_stats=True)\n",
            "      )\n",
            "      (shortcut): Sequential()\n",
            "    )\n",
            "    (2): BasicBlock(\n",
            "      (features): Sequential(\n",
            "        (0): Conv2d(512, 512, kernel_size=(3, 3), stride=(1, 1), padding=(1, 1), bias=False)\n",
            "        (1): BatchNorm2d(512, eps=1e-05, momentum=0.1, affine=True, track_running_stats=True)\n",
            "        (2): ReLU(inplace=True)\n",
            "        (3): Conv2d(512, 512, kernel_size=(3, 3), stride=(1, 1), padding=(1, 1), bias=False)\n",
            "        (4): BatchNorm2d(512, eps=1e-05, momentum=0.1, affine=True, track_running_stats=True)\n",
            "      )\n",
            "      (shortcut): Sequential()\n",
            "    )\n",
            "  )\n",
            "  (avg_pool): AvgPool2d(kernel_size=4, stride=4, padding=0)\n",
            "  (classifer): Linear(in_features=512, out_features=10, bias=True)\n",
            ")\n"
          ]
        }
      ],
      "source": [
        "net = ResNet34().to(device)\n",
        "print(net)\n",
        "if device == 'cuda':\n",
        "    net = nn.DataParallel(net)\n",
        "    torch.backends.cudnn.benchmark = True"
      ]
    },
    {
      "cell_type": "code",
      "source": [
        "import matplotlib.pyplot as plt\n",
        "from torchinfo import summary\n",
        "import torch\n",
        "import torchvision.models as models\n",
        "\n",
        "# Define the device\n",
        "device = torch.device('cuda' if torch.cuda.is_available() else 'cpu')\n",
        "\n",
        "# List of model names\n",
        "model_names = [\"resnet18\", \"resnet34\", \"resnet50\", \"resnet101\", \"resnet152\"]\n",
        "\n",
        "# Dictionary to hold models\n",
        "models_dict = {\n",
        "    \"resnet18\": models.resnet18().to(device),\n",
        "    \"resnet34\": models.resnet34().to(device),\n",
        "    \"resnet50\": models.resnet50().to(device),\n",
        "    \"resnet101\": models.resnet101().to(device),\n",
        "    \"resnet152\": models.resnet152().to(device)\n",
        "}\n",
        "\n",
        "# List to store FLOPs data\n",
        "flops_data = []\n",
        "labels = []\n",
        "\n",
        "# Iterate over models and calculate FLOPs\n",
        "for model_name, model in models_dict.items():\n",
        "    model_info = summary(model, input_size=(1, 3, 224, 224), verbose=0)\n",
        "    flops = model_info.total_mult_adds\n",
        "    flops_data.append(flops)\n",
        "    labels.append(model_name)\n",
        "\n",
        "# Plotting the histogram\n",
        "plt.figure(figsize=(10, 6))\n",
        "plt.bar(labels, flops_data, color='skyblue')\n",
        "plt.xlabel('Model')\n",
        "plt.ylabel('FLOPs (in billions)')\n",
        "plt.title('Histogram of FLOPs Across Different ResNet Models')\n",
        "plt.xticks(rotation=45)\n",
        "plt.show()\n"
      ],
      "metadata": {
        "colab": {
          "base_uri": "https://localhost:8080/",
          "height": 610
        },
        "id": "PiQUyaJPKq_8",
        "outputId": "852ad265-307d-43dc-b496-88f443ebfd6e"
      },
      "execution_count": 70,
      "outputs": [
        {
          "output_type": "display_data",
          "data": {
            "text/plain": [
              "<Figure size 1000x600 with 1 Axes>"
            ],
            "image/png": "[encoded data removed]"
          },
          "metadata": {}
        }
      ]
    },
    {
      "cell_type": "code",
      "source": [
        "import torchvision.models as models\n",
        "from torch.profiler import profile, record_function, ProfilerActivity, tensorboard_trace_handler\n",
        "# Function to run a forward pass and profile\n",
        "def profile_model(model, input_tensor):\n",
        "    with profile(activities=[ProfilerActivity.CPU, ProfilerActivity.CUDA],\n",
        "                 record_shapes=True, profile_memory=True) as prof:\n",
        "        with record_function(\"model_inference\"):\n",
        "            model(input_tensor)\n",
        "    print(prof.key_averages().table(sort_by=\"cuda_time_total\", row_limit=10))\n",
        "    return prof\n",
        "\n",
        "# Dummy input for profiling\n",
        "input_tensor = torch.randn(1, 3, 224, 224).to(device)\n",
        "\n",
        "# Iterate over models and profile each\n",
        "for model_name, model in models_dict.items():\n",
        "    print(f\"Profiling {model_name}\")\n",
        "    profiler = profile_model(model, input_tensor)"
      ],
      "metadata": {
        "colab": {
          "base_uri": "https://localhost:8080/"
        },
        "id": "d7I2JbJZMiuH",
        "outputId": "bfd9908f-7fab-4d6b-d9f3-f13b33cffa22"
      },
      "execution_count": 71,
      "outputs": [
        {
          "output_type": "stream",
          "name": "stdout",
          "text": [
            "Profiling resnet18\n",
            "-------------------------------------------------------  ------------  ------------  ------------  ------------  ------------  ------------  ------------  ------------  ------------  ------------  ------------  ------------  ------------  ------------  \n",
            "                                                   Name    Self CPU %      Self CPU   CPU total %     CPU total  CPU time avg     Self CUDA   Self CUDA %    CUDA total  CUDA time avg       CPU Mem  Self CPU Mem      CUDA Mem  Self CUDA Mem    # of Calls  \n",
            "-------------------------------------------------------  ------------  ------------  ------------  ------------  ------------  ------------  ------------  ------------  ------------  ------------  ------------  ------------  ------------  ------------  \n",
            "                                        model_inference        19.89%       3.575ms        99.84%      17.941ms      17.941ms       0.000us         0.00%       4.070ms       4.070ms           0 b           0 b           0 b     -22.20 Mb             1  \n",
            "                                           aten::conv2d         0.78%     141.000us        48.38%       8.693ms     434.650us       0.000us         0.00%       3.317ms     165.850us           0 b           0 b      10.16 Mb           0 b            20  \n",
            "                                      aten::convolution         3.53%     634.000us        47.59%       8.552ms     427.600us       0.000us         0.00%       3.317ms     165.850us           0 b           0 b      10.16 Mb           0 b            20  \n",
            "                                     aten::_convolution         3.18%     571.000us        44.06%       7.918ms     395.900us       0.000us         0.00%       3.317ms     165.850us           0 b           0 b      10.16 Mb           0 b            20  \n",
            "                                aten::cudnn_convolution        14.78%       2.656ms        40.88%       7.347ms     367.350us       3.317ms        81.50%       3.317ms     165.850us           0 b           0 b      10.16 Mb      10.16 Mb            20  \n",
            "cudnn_infer_volta_scudnn_winograd_128x128_ldg1_ldg4_...         0.00%       0.000us         0.00%       0.000us       0.000us       1.970ms        48.40%       1.970ms     151.538us           0 b           0 b           0 b           0 b            13  \n",
            "                                       aten::batch_norm         0.43%      78.000us        19.56%       3.515ms     175.750us       0.000us         0.00%     519.000us      25.950us           0 b           0 b       9.51 Mb           0 b            20  \n",
            "                           aten::_batch_norm_impl_index         0.87%     157.000us        19.13%       3.437ms     171.850us       0.000us         0.00%     519.000us      25.950us           0 b           0 b       9.51 Mb           0 b            20  \n",
            "                                 aten::cudnn_batch_norm         9.23%       1.658ms        18.25%       3.280ms     164.000us     519.000us        12.75%     519.000us      25.950us           0 b           0 b       9.51 Mb           0 b            20  \n",
            "void cudnn::winograd::generateWinogradTilesKernel<0,...         0.00%       0.000us         0.00%       0.000us       0.000us     512.000us        12.58%     512.000us      39.385us           0 b           0 b           0 b           0 b            13  \n",
            "-------------------------------------------------------  ------------  ------------  ------------  ------------  ------------  ------------  ------------  ------------  ------------  ------------  ------------  ------------  ------------  ------------  \n",
            "Self CPU time total: 17.970ms\n",
            "Self CUDA time total: 4.070ms\n",
            "\n",
            "Profiling resnet34\n",
            "-------------------------------------------------------  ------------  ------------  ------------  ------------  ------------  ------------  ------------  ------------  ------------  ------------  ------------  ------------  ------------  ------------  \n",
            "                                                   Name    Self CPU %      Self CPU   CPU total %     CPU total  CPU time avg     Self CUDA   Self CUDA %    CUDA total  CUDA time avg       CPU Mem  Self CPU Mem      CUDA Mem  Self CUDA Mem    # of Calls  \n",
            "-------------------------------------------------------  ------------  ------------  ------------  ------------  ------------  ------------  ------------  ------------  ------------  ------------  ------------  ------------  ------------  ------------  \n",
            "                                        model_inference        29.04%       4.997ms        99.90%      17.192ms      17.192ms       0.000us         0.00%       7.401ms       7.401ms           0 b           0 b           0 b     -31.80 Mb             1  \n",
            "                                           aten::conv2d         0.90%     155.000us        33.60%       5.783ms     160.639us       0.000us         0.00%       6.126ms     170.167us           0 b           0 b      14.95 Mb           0 b            36  \n",
            "                                      aten::convolution         3.94%     678.000us        32.70%       5.628ms     156.333us       0.000us         0.00%       6.126ms     170.167us           0 b           0 b      14.95 Mb           0 b            36  \n",
            "                                     aten::_convolution         3.10%     534.000us        28.76%       4.950ms     137.500us       0.000us         0.00%       6.126ms     170.167us           0 b           0 b      14.95 Mb           0 b            36  \n",
            "                                aten::cudnn_convolution        18.25%       3.141ms        25.66%       4.416ms     122.667us       6.126ms        82.77%       6.126ms     170.167us           0 b           0 b      14.95 Mb      14.95 Mb            36  \n",
            "cudnn_infer_volta_scudnn_winograd_128x128_ldg1_ldg4_...         0.00%       0.000us         0.00%       0.000us       0.000us       4.276ms        57.78%       4.276ms     147.448us           0 b           0 b           0 b           0 b            29  \n",
            "void cudnn::winograd::generateWinogradTilesKernel<0,...         0.00%       0.000us         0.00%       0.000us       0.000us       1.014ms        13.70%       1.014ms      34.966us           0 b           0 b           0 b           0 b            29  \n",
            "                                       aten::batch_norm         0.57%      98.000us        22.68%       3.903ms     108.417us       0.000us         0.00%     910.000us      25.278us           0 b           0 b      14.33 Mb           0 b            36  \n",
            "                           aten::_batch_norm_impl_index         1.09%     187.000us        22.11%       3.805ms     105.694us       0.000us         0.00%     910.000us      25.278us           0 b           0 b      14.33 Mb           0 b            36  \n",
            "                                 aten::cudnn_batch_norm        11.00%       1.893ms        21.02%       3.618ms     100.500us     910.000us        12.30%     910.000us      25.278us           0 b           0 b      14.33 Mb           0 b            36  \n",
            "-------------------------------------------------------  ------------  ------------  ------------  ------------  ------------  ------------  ------------  ------------  ------------  ------------  ------------  ------------  ------------  ------------  \n",
            "Self CPU time total: 17.210ms\n",
            "Self CUDA time total: 7.401ms\n",
            "\n",
            "Profiling resnet50\n",
            "-------------------------------------------------------  ------------  ------------  ------------  ------------  ------------  ------------  ------------  ------------  ------------  ------------  ------------  ------------  ------------  ------------  \n",
            "                                                   Name    Self CPU %      Self CPU   CPU total %     CPU total  CPU time avg     Self CUDA   Self CUDA %    CUDA total  CUDA time avg       CPU Mem  Self CPU Mem      CUDA Mem  Self CUDA Mem    # of Calls  \n",
            "-------------------------------------------------------  ------------  ------------  ------------  ------------  ------------  ------------  ------------  ------------  ------------  ------------  ------------  ------------  ------------  ------------  \n",
            "                                        model_inference        26.41%       5.966ms        99.92%      22.574ms      22.574ms       0.000us         0.00%      10.176ms      10.176ms           0 b           0 b           0 b     -93.34 Mb             1  \n",
            "                                      aten::convolution         2.92%     660.000us        31.10%       7.026ms     132.566us       0.000us         0.00%       6.921ms     130.585us           0 b           0 b      45.21 Mb           0 b            53  \n",
            "                                     aten::_convolution         1.88%     424.000us        28.18%       6.366ms     120.113us       0.000us         0.00%       6.921ms     130.585us           0 b           0 b      45.21 Mb           0 b            53  \n",
            "                                aten::cudnn_convolution        19.14%       4.324ms        26.30%       5.942ms     112.113us       6.921ms        68.01%       6.921ms     130.585us           0 b           0 b      45.21 Mb      45.21 Mb            53  \n",
            "                                           aten::conv2d         1.45%     327.000us        32.08%       7.248ms     136.755us       0.000us         0.00%       6.742ms     127.208us           0 b           0 b      45.21 Mb     196.00 Kb            53  \n",
            "                                       aten::batch_norm         0.67%     152.000us        25.22%       5.699ms     107.528us       0.000us         0.00%       2.525ms      47.642us           0 b           0 b      45.42 Mb           0 b            53  \n",
            "                           aten::_batch_norm_impl_index         1.28%     290.000us        24.55%       5.547ms     104.660us       0.000us         0.00%       2.525ms      47.642us           0 b           0 b      45.42 Mb           0 b            53  \n",
            "                                 aten::cudnn_batch_norm        11.81%       2.668ms        23.27%       5.257ms      99.189us       2.525ms        24.81%       2.525ms      47.642us           0 b           0 b      45.42 Mb           0 b            53  \n",
            "void cudnn::bn_fw_tr_1C11_singleread<float, 512, tru...         0.00%       0.000us         0.00%       0.000us       0.000us       2.494ms        24.51%       2.494ms      47.962us           0 b           0 b           0 b           0 b            52  \n",
            "cudnn_infer_volta_scudnn_winograd_128x128_ldg1_ldg4_...         0.00%       0.000us         0.00%       0.000us       0.000us       1.883ms        18.50%       1.883ms     144.846us           0 b           0 b           0 b           0 b            13  \n",
            "-------------------------------------------------------  ------------  ------------  ------------  ------------  ------------  ------------  ------------  ------------  ------------  ------------  ------------  ------------  ------------  ------------  \n",
            "Self CPU time total: 22.593ms\n",
            "Self CUDA time total: 10.176ms\n",
            "\n",
            "Profiling resnet101\n",
            "-------------------------------------------------------  ------------  ------------  ------------  ------------  ------------  ------------  ------------  ------------  ------------  ------------  ------------  ------------  ------------  ------------  \n",
            "                                                   Name    Self CPU %      Self CPU   CPU total %     CPU total  CPU time avg     Self CUDA   Self CUDA %    CUDA total  CUDA time avg       CPU Mem  Self CPU Mem      CUDA Mem  Self CUDA Mem    # of Calls  \n",
            "-------------------------------------------------------  ------------  ------------  ------------  ------------  ------------  ------------  ------------  ------------  ------------  ------------  ------------  ------------  ------------  ------------  \n",
            "                                        model_inference        27.45%      15.168ms        99.96%      55.228ms      55.228ms       0.000us         0.00%      18.575ms      18.575ms           0 b           0 b           0 b    -133.15 Mb             1  \n",
            "                                           aten::conv2d         1.18%     653.000us        27.96%      15.449ms     148.548us       0.000us         0.00%      12.598ms     121.135us           0 b           0 b      64.83 Mb           0 b           104  \n",
            "                                      aten::convolution         2.85%       1.572ms        26.78%      14.796ms     142.269us       0.000us         0.00%      12.598ms     121.135us           0 b           0 b      64.83 Mb           0 b           104  \n",
            "                                     aten::_convolution         1.90%       1.052ms        23.93%      13.224ms     127.154us       0.000us         0.00%      12.598ms     121.135us           0 b           0 b      64.83 Mb           0 b           104  \n",
            "                                aten::cudnn_convolution        16.72%       9.237ms        22.03%      12.172ms     117.038us      12.598ms        67.82%      12.598ms     121.135us           0 b           0 b      64.83 Mb      64.83 Mb           104  \n",
            "                                       aten::batch_norm         0.75%     412.000us        28.54%      15.769ms     151.625us       0.000us         0.00%       4.806ms      46.212us           0 b           0 b      65.79 Mb           0 b           104  \n",
            "                           aten::_batch_norm_impl_index         1.24%     684.000us        27.79%      15.357ms     147.663us       0.000us         0.00%       4.806ms      46.212us           0 b           0 b      65.79 Mb           0 b           104  \n",
            "                                 aten::cudnn_batch_norm        12.19%       6.734ms        26.56%      14.673ms     141.087us       4.806ms        25.87%       4.806ms      46.212us           0 b           0 b      65.79 Mb           0 b           104  \n",
            "void cudnn::bn_fw_tr_1C11_singleread<float, 512, tru...         0.00%       0.000us         0.00%       0.000us       0.000us       4.775ms        25.71%       4.775ms      46.359us           0 b           0 b           0 b           0 b           103  \n",
            "cudnn_infer_volta_scudnn_winograd_128x128_ldg1_ldg4_...         0.00%       0.000us         0.00%       0.000us       0.000us       4.397ms        23.67%       4.397ms     146.567us           0 b           0 b           0 b           0 b            30  \n",
            "-------------------------------------------------------  ------------  ------------  ------------  ------------  ------------  ------------  ------------  ------------  ------------  ------------  ------------  ------------  ------------  ------------  \n",
            "Self CPU time total: 55.251ms\n",
            "Self CUDA time total: 18.575ms\n",
            "\n",
            "Profiling resnet152\n",
            "-------------------------------------------------------  ------------  ------------  ------------  ------------  ------------  ------------  ------------  ------------  ------------  ------------  ------------  ------------  ------------  ------------  \n",
            "                                                   Name    Self CPU %      Self CPU   CPU total %     CPU total  CPU time avg     Self CUDA   Self CUDA %    CUDA total  CUDA time avg       CPU Mem  Self CPU Mem      CUDA Mem  Self CUDA Mem    # of Calls  \n",
            "-------------------------------------------------------  ------------  ------------  ------------  ------------  ------------  ------------  ------------  ------------  ------------  ------------  ------------  ------------  ------------  ------------  \n",
            "                                        model_inference        26.88%      20.703ms        99.97%      77.012ms      77.012ms       0.000us         0.00%      26.486ms      26.486ms           0 b           0 b           0 b    -185.56 Mb             1  \n",
            "                                           aten::conv2d         1.13%     874.000us        27.39%      21.103ms     136.148us       0.000us         0.00%      17.923ms     115.632us           0 b           0 b      88.94 Mb           0 b           155  \n",
            "                                      aten::convolution         2.74%       2.112ms        26.26%      20.229ms     130.510us       0.000us         0.00%      17.923ms     115.632us           0 b           0 b      88.94 Mb           0 b           155  \n",
            "                                     aten::_convolution         1.95%       1.501ms        23.52%      18.117ms     116.884us       0.000us         0.00%      17.923ms     115.632us           0 b           0 b      88.94 Mb           0 b           155  \n",
            "                                aten::cudnn_convolution        16.71%      12.875ms        21.57%      16.616ms     107.200us      17.923ms        67.67%      17.923ms     115.632us           0 b           0 b      88.94 Mb      88.94 Mb           155  \n",
            "                           aten::_batch_norm_impl_index         1.25%     963.000us        28.63%      22.052ms     142.271us       0.000us         0.00%       6.909ms      44.574us           0 b           0 b      90.09 Mb           0 b           155  \n",
            "                                 aten::cudnn_batch_norm        12.10%       9.320ms        27.38%      21.089ms     136.058us       6.909ms        26.09%       6.909ms      44.574us           0 b           0 b      90.09 Mb           0 b           155  \n",
            "                                       aten::batch_norm         1.02%     782.000us        29.38%      22.631ms     146.006us       0.000us         0.00%       6.878ms      44.374us           0 b           0 b      90.09 Mb       4.00 Mb           155  \n",
            "void cudnn::bn_fw_tr_1C11_singleread<float, 512, tru...         0.00%       0.000us         0.00%       0.000us       0.000us       6.878ms        25.97%       6.878ms      44.662us           0 b           0 b           0 b           0 b           154  \n",
            "cudnn_infer_volta_scudnn_winograd_128x128_ldg1_ldg4_...         0.00%       0.000us         0.00%       0.000us       0.000us       6.686ms        25.24%       6.686ms     142.255us           0 b           0 b           0 b           0 b            47  \n",
            "-------------------------------------------------------  ------------  ------------  ------------  ------------  ------------  ------------  ------------  ------------  ------------  ------------  ------------  ------------  ------------  ------------  \n",
            "Self CPU time total: 77.034ms\n",
            "Self CUDA time total: 26.486ms\n",
            "\n"
          ]
        }
      ]
    },
    {
      "cell_type": "code",
      "source": [
        "# Function to generate and save trace\n",
        "def generate_trace(model, input_tensor, trace_dir, model_name):\n",
        "    with profile(activities=[ProfilerActivity.CPU, ProfilerActivity.CUDA],\n",
        "                 schedule=torch.profiler.schedule(wait=1, warmup=1, active=3),\n",
        "                 on_trace_ready=tensorboard_trace_handler(trace_dir + f\"/{model_name}\"),\n",
        "                 record_shapes=True, profile_memory=True) as prof:\n",
        "        for _ in range(5):\n",
        "            model(input_tensor)\n",
        "            prof.step()  # Next step in profiling\n",
        "\n",
        "# Dummy input for profiling\n",
        "input_tensor = torch.randn(1, 3, 224, 224).to(device)\n",
        "\n",
        "# Trace directory\n",
        "trace_dir = \"model_traces\"\n",
        "\n",
        "# Iterate over models and generate trace for each\n",
        "for model_name, model in models_dict.items():\n",
        "    print(f\"Generating trace for {model_name}\")\n",
        "    generate_trace(model, input_tensor, trace_dir, model_name)\n",
        "    print(f\"Trace for {model_name} saved in {trace_dir}/{model_name}\")"
      ],
      "metadata": {
        "colab": {
          "base_uri": "https://localhost:8080/"
        },
        "id": "fGY41eEzNN_u",
        "outputId": "f1f813e4-7967-4153-d585-0c4b482b1042"
      },
      "execution_count": 72,
      "outputs": [
        {
          "output_type": "stream",
          "name": "stdout",
          "text": [
            "Generating trace for resnet18\n",
            "Trace for resnet18 saved in model_traces/resnet18\n",
            "Generating trace for resnet34\n",
            "Trace for resnet34 saved in model_traces/resnet34\n",
            "Generating trace for resnet50\n",
            "Trace for resnet50 saved in model_traces/resnet50\n",
            "Generating trace for resnet101\n",
            "Trace for resnet101 saved in model_traces/resnet101\n",
            "Generating trace for resnet152\n",
            "Trace for resnet152 saved in model_traces/resnet152\n"
          ]
        }
      ]
    },
    {
      "cell_type": "code",
      "execution_count": 73,
      "metadata": {
        "id": "1mFEHV3q9E6Y",
        "colab": {
          "base_uri": "https://localhost:8080/"
        },
        "outputId": "6d20ab32-af27-49b5-f890-182696d24451"
      },
      "outputs": [
        {
          "output_type": "stream",
          "name": "stdout",
          "text": [
            "torch.Size([2, 10])\n"
          ]
        }
      ],
      "source": [
        "x = torch.randn(2, 3, 32, 32).to(device)\n",
        "y = net(x)\n",
        "print(y.shape)"
      ]
    },
    {
      "cell_type": "code",
      "execution_count": 74,
      "metadata": {
        "id": "0vIm55uF9E6Y"
      },
      "outputs": [],
      "source": [
        "lr = 1e-1\n",
        "momentum = 0.9\n",
        "weight_decay = 5e-4\n",
        "\n",
        "criterion = nn.CrossEntropyLoss()\n",
        "optimizer = optim.SGD(net.parameters(), lr=lr, momentum=momentum, weight_decay=weight_decay)\n",
        "scheduler = optim.lr_scheduler.ReduceLROnPlateau(optimizer, threshold=0.1, patience=3, verbose=True)"
      ]
    },
    {
      "cell_type": "code",
      "execution_count": 75,
      "metadata": {
        "id": "nBWC7Avb9E6Y"
      },
      "outputs": [],
      "source": [
        "# Training\n",
        "def train(epoch):\n",
        "    print('\\nEpoch: %d' % (epoch))\n",
        "    net.train()\n",
        "    train_loss = 0\n",
        "    correct = 0\n",
        "    total = 0\n",
        "    for batch_idx, (inputs, targets) in enumerate(train_loader):\n",
        "        inputs, targets = inputs.to(device), targets.to(device)\n",
        "        optimizer.zero_grad()\n",
        "        outputs = net(inputs)\n",
        "        loss = criterion(outputs, targets)\n",
        "        loss.backward()\n",
        "        optimizer.step()\n",
        "\n",
        "        train_loss += loss.item()\n",
        "        _, predicted = outputs.max(1)\n",
        "        total += targets.size(0)\n",
        "        correct += predicted.eq(targets).sum().item()\n",
        "        if batch_idx % 100 == 99:    # print every 100 mini-batches\n",
        "            print('[%d, %5d] loss: %.6f |  Acc: %.3f%% (%d/%d)' %\n",
        "                  (epoch + 1, batch_idx + 1, train_loss, 100.*correct/total, correct, total))\n",
        "    return train_loss"
      ]
    },
    {
      "cell_type": "code",
      "source": [
        "from torch.utils.tensorboard import SummaryWriter\n",
        "\n",
        "# Initialize the SummaryWriter\n",
        "writer = SummaryWriter(log_dir=log_dir)\n",
        "\n",
        "# Modified training function with TensorBoard logging\n",
        "def train(epoch):\n",
        "    print('\\nEpoch: %d' % epoch)\n",
        "    net.train()\n",
        "    train_loss = 0\n",
        "    correct = 0\n",
        "    total = 0\n",
        "    start_time = time.time()\n",
        "\n",
        "    for batch_idx, (inputs, targets) in enumerate(train_loader):\n",
        "        batch_start_time = time.time()\n",
        "        inputs, targets = inputs.to(device), targets.to(device)\n",
        "        optimizer.zero_grad()\n",
        "        outputs = net(inputs)\n",
        "        loss = criterion(outputs, targets)\n",
        "        loss.backward()\n",
        "        optimizer.step()\n",
        "\n",
        "        train_loss += loss.item()\n",
        "        _, predicted = outputs.max(1)\n",
        "        total += targets.size(0)\n",
        "        correct += predicted.eq(targets).sum().item()\n",
        "        batch_time = time.time() - batch_start_time\n",
        "\n",
        "        if batch_idx % 100 == 99:\n",
        "            avg_loss = train_loss / 100\n",
        "            acc = 100. * correct / total\n",
        "            print('[%d, %5d] Loss: %.6f | Acc: %.3f%% (%d/%d) | Batch Time: %.3f seconds' %\n",
        "                  (epoch + 1, batch_idx + 1, avg_loss, acc, correct, total, batch_time))\n",
        "            writer.add_scalar('Training Loss', avg_loss, epoch * len(train_loader) + batch_idx)\n",
        "            writer.add_scalar('Accuracy', acc, epoch * len(train_loader) + batch_idx)\n",
        "            train_loss = 0  # Reset the loss for the next 100 batches\n",
        "\n",
        "    epoch_time = time.time() - start_time\n",
        "    print('Epoch finished in %.3f seconds' % epoch_time)\n",
        "    writer.add_scalar('Epoch Time', epoch_time, epoch)\n",
        "\n",
        "    return train_loss, acc, epoch_time\n"
      ],
      "metadata": {
        "id": "Q0SC8oi1TyOW"
      },
      "execution_count": 82,
      "outputs": []
    },
    {
      "cell_type": "code",
      "execution_count": 77,
      "metadata": {
        "id": "jUpb5IRK9E6Y",
        "colab": {
          "base_uri": "https://localhost:8080/"
        },
        "outputId": "dc2482bb-4197-4f27-8ffd-fa46920c0d01"
      },
      "outputs": [
        {
          "output_type": "stream",
          "name": "stdout",
          "text": [
            "start_epoch: 0\n"
          ]
        }
      ],
      "source": [
        "load_model = False\n",
        "if load_model:\n",
        "    checkpoint = torch.load('./checkpoint/res18.ckpt')\n",
        "    net.load_state_dict(checkpoint['net'])\n",
        "    start_epoch = checkpoint['epoch']\n",
        "else:\n",
        "    start_epoch = 0\n",
        "print('start_epoch: %s' % start_epoch)"
      ]
    },
    {
      "cell_type": "code",
      "execution_count": null,
      "metadata": {
        "id": "i53Cj3ay9E6Z",
        "colab": {
          "base_uri": "https://localhost:8080/",
          "height": 540
        },
        "outputId": "f5466de6-aab5-474a-dffa-4bc1dcfaf34a"
      },
      "outputs": [
        {
          "output_type": "stream",
          "name": "stdout",
          "text": [
            "The tensorboard extension is already loaded. To reload it, use:\n",
            "  %reload_ext tensorboard\n"
          ]
        },
        {
          "output_type": "display_data",
          "data": {
            "text/plain": [
              "ERROR: Failed to launch TensorBoard (exited with 1).\n",
              "Contents of stderr:\n",
              "2024-05-12 01:11:28.618407: E external/local_xla/xla/stream_executor/cuda/cuda_dnn.cc:9261] Unable to register cuDNN factory: Attempting to register factory for plugin cuDNN when one has already been registered\n",
              "2024-05-12 01:11:28.618490: E external/local_xla/xla/stream_executor/cuda/cuda_fft.cc:607] Unable to register cuFFT factory: Attempting to register factory for plugin cuFFT when one has already been registered\n",
              "2024-05-12 01:11:28.619650: E external/local_xla/xla/stream_executor/cuda/cuda_blas.cc:1515] Unable to register cuBLAS factory: Attempting to register factory for plugin cuBLAS when one has already been registered\n",
              "2024-05-12 01:11:29.597581: W tensorflow/compiler/tf2tensorrt/utils/py_utils.cc:38] TF-TRT Warning: Could not find TensorRT\n",
              "Error: A logdir or db must be specified. For example `tensorboard --logdir mylogdir` or `tensorboard --db sqlite:~/.tensorboard.db`. Run `tensorboard --helpfull` for details and examples."
            ]
          },
          "metadata": {}
        },
        {
          "output_type": "stream",
          "name": "stdout",
          "text": [
            "\n",
            "Epoch: 0\n"
          ]
        },
        {
          "output_type": "stream",
          "name": "stderr",
          "text": [
            "/usr/lib/python3.10/multiprocessing/popen_fork.py:66: RuntimeWarning: os.fork() was called. os.fork() is incompatible with multithreaded code, and JAX is multithreaded, so this will likely lead to a deadlock.\n",
            "  self.pid = os.fork()\n"
          ]
        },
        {
          "output_type": "stream",
          "name": "stdout",
          "text": [
            "[1,   100] Loss: 1.361740 | Acc: 50.242% (6431/12800) | Batch Time: 0.164 seconds\n",
            "[1,   200] Loss: 1.271116 | Acc: 52.273% (13382/25600) | Batch Time: 0.168 seconds\n",
            "[1,   300] Loss: 1.193661 | Acc: 53.695% (20619/38400) | Batch Time: 0.166 seconds\n",
            "Epoch finished in 67.802 seconds\n",
            "\n",
            "Epoch: 1\n",
            "[2,   100] Loss: 1.042399 | Acc: 62.180% (7959/12800) | Batch Time: 0.167 seconds\n",
            "[2,   200] Loss: 1.005797 | Acc: 63.254% (16193/25600) | Batch Time: 0.173 seconds\n",
            "[2,   300] Loss: 0.949454 | Acc: 64.326% (24701/38400) | Batch Time: 0.167 seconds\n",
            "Epoch finished in 67.932 seconds\n",
            "\n",
            "Epoch: 2\n",
            "[3,   100] Loss: 0.853769 | Acc: 69.703% (8922/12800) | Batch Time: 0.166 seconds\n"
          ]
        }
      ],
      "source": [
        "# Load the TensorBoard notebook extension\n",
        "%load_ext tensorboard\n",
        "import datetime\n",
        "import os\n",
        "\n",
        "# Define the directory to store the TensorBoard logs\n",
        "log_dir = os.path.join(\"logs\", datetime.datetime.now().strftime(\"%Y%m%d-%H%M%S\"))\n",
        "\n",
        "# Start TensorBoard\n",
        "%tensorboard --log_dir $log_dir\n",
        "num_epochs = 5  # Define the number of epochs to train\n",
        "for epoch in range(num_epochs):\n",
        "    train_loss, acc, epoch_time = train(epoch)\n"
      ]
    },
    {
      "cell_type": "code",
      "execution_count": null,
      "metadata": {
        "id": "xg3Wv53u9E6Z"
      },
      "outputs": [],
      "source": [
        "save_model = True\n",
        "if save_model:\n",
        "    state = {\n",
        "        'net': net.state_dict(),\n",
        "        'epoch': epoch,\n",
        "    }\n",
        "    os.makedirs('checkpoint', exist_ok=True)\n",
        "    torch.save(state, './checkpoint/res18.ckpt')"
      ]
    },
    {
      "cell_type": "code",
      "execution_count": null,
      "metadata": {
        "id": "jtrjkufY9E6Z"
      },
      "outputs": [],
      "source": [
        "dataiter = iter(test_loader)\n",
        "images, labels = next(dataiter)\n",
        "images = images[:4]\n",
        "labels = labels[:4]\n",
        "# print images\n",
        "imshow(torchvision.utils.make_grid(images))\n",
        "print('GroundTruth: ', ' '.join('%5s' % classes[labels[j]] for j in range(4)))\n",
        "\n",
        "outputs = net(images.to(device))\n",
        "_, predicted = torch.max(outputs.cpu(), 1)\n",
        "print('Predicted: ', ' '.join('%5s' % classes[predicted[j]]\n",
        "                              for j in range(4)))\n",
        "correct = 0\n",
        "total = 0\n",
        "with torch.no_grad():\n",
        "    for data in test_loader:\n",
        "        images, labels = data\n",
        "        images, labels = images.to(device), labels.to(device)\n",
        "        outputs = net(images)\n",
        "        _, predicted = torch.max(outputs.data, 1)\n",
        "        total += labels.size(0)\n",
        "        correct += (predicted == labels).sum().item()\n",
        "\n",
        "print('Accuracy of the network on the 10000 test images: %d %%' % (\n",
        "    100 * correct / total))\n",
        "\n",
        "class_correct = list(0. for i in range(10))\n",
        "class_total = list(0. for i in range(10))\n",
        "with torch.no_grad():\n",
        "    for data in test_loader:\n",
        "        images, labels = data\n",
        "        images, labels = images.to(device), labels.to(device)\n",
        "        outputs = net(images)\n",
        "        _, predicted = torch.max(outputs, 1)\n",
        "        c = (predicted == labels).squeeze()\n",
        "        for i in range(4):\n",
        "            label = labels[i]\n",
        "            class_correct[label] += c[i].item()\n",
        "            class_total[label] += 1\n",
        "\n",
        "\n",
        "for i in range(10):\n",
        "    print('Accuracy of %5s : %2d %%' % (\n",
        "        classes[i], 100 * class_correct[i] / class_total[i]))"
      ]
    },
    {
      "cell_type": "code",
      "source": [],
      "metadata": {
        "id": "xKy0bCWXXHRG"
      },
      "execution_count": null,
      "outputs": []
    }
  ],
  "metadata": {
    "kernelspec": {
      "display_name": "Python 3",
      "name": "python3"
    },
    "language_info": {
      "codemirror_mode": {
        "name": "ipython",
        "version": 3
      },
      "file_extension": ".py",
      "mimetype": "text/x-python",
      "name": "python",
      "nbconvert_exporter": "python",
      "pygments_lexer": "ipython3",
      "version": "3.6.3"
    },
    "colab": {
      "provenance": [],
      "gpuType": "T4"
    },
    "accelerator": "GPU"
  },
  "nbformat": 4,
  "nbformat_minor": 0
}